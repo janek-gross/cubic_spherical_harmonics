{
 "cells": [
  {
   "cell_type": "code",
   "execution_count": 1,
   "metadata": {},
   "outputs": [],
   "source": [
    "import sympy as sym\n",
    "import numpy as np\n",
    "from spherical_harmonic_functions.spherical_harmonics import *\n",
    "from spherical_bessel_functions.spherical_bessel_functions import *\n",
    "\n",
    "import matplotlib as mpl\n",
    "import matplotlib.pyplot as plt\n",
    "import matplotlib.cm as cm\n"
   ]
  },
  {
   "cell_type": "code",
   "execution_count": 2,
   "metadata": {},
   "outputs": [],
   "source": [
    "n = 2\n",
    "m = -1\n",
    "l = 2\n",
    "\n",
    "# Compute the formulas up to including l = 4\n",
    "Y_l_m = spherical_harmonic_functions(4)\n",
    "j_n = spherical_bessel_function_formulas(4)\n",
    "\n"
   ]
  },
  {
   "cell_type": "code",
   "execution_count": 3,
   "metadata": {},
   "outputs": [
    {
     "data": {
      "text/latex": [
       "$\\displaystyle - 1.09254843059208 y z$"
      ],
      "text/plain": [
       "-1.09254843059208*y*z"
      ]
     },
     "execution_count": 3,
     "metadata": {},
     "output_type": "execute_result"
    }
   ],
   "source": [
    "# Example spherical harmonic formula with x,y and z on the unit sphere\n",
    "Y_l_m[l][m]\n"
   ]
  },
  {
   "cell_type": "code",
   "execution_count": 4,
   "metadata": {},
   "outputs": [
    {
     "data": {
      "text/latex": [
       "$\\displaystyle - 1.09254843059208 \\sin{\\left(\\phi \\right)} \\sin{\\left(\\theta \\right)} \\cos{\\left(\\theta \\right)}$"
      ],
      "text/plain": [
       "-1.09254843059208*sin(phi)*sin(theta)*cos(theta)"
      ]
     },
     "execution_count": 4,
     "metadata": {},
     "output_type": "execute_result"
    }
   ],
   "source": [
    "# Example spherical harmonic formula in spherical coordinates with longitude theta and latitude phi\n",
    "\n",
    "theta = sym.symbols('theta')\n",
    "phi = sym.symbols('phi')\n",
    "x = sym.symbols('x')\n",
    "y = sym.symbols('y')\n",
    "z = sym.symbols('z')\n",
    "\n",
    "Y_l_m[l][m].subs(\n",
    "    x, sym.sin(theta)*sym.cos(phi)).subs(\n",
    "    y, sym.sin(theta)*sym.sin(phi)).subs(\n",
    "    z, sym.cos(theta))\n"
   ]
  },
  {
   "cell_type": "code",
   "execution_count": 5,
   "metadata": {},
   "outputs": [
    {
     "data": {
      "text/latex": [
       "$\\displaystyle - \\frac{1.09254843059208 \\left(- r^{2} \\sin{\\left(r \\right)} - 3 r \\cos{\\left(r \\right)} + 3 \\sin{\\left(r \\right)}\\right) \\sin{\\left(\\phi \\right)} \\sin{\\left(\\theta \\right)} \\cos{\\left(\\theta \\right)}}{r^{3}}$"
      ],
      "text/plain": [
       "-1.09254843059208*(-r**2*sin(r) - 3*r*cos(r) + 3*sin(r))*sin(phi)*sin(theta)*cos(theta)/r**3"
      ]
     },
     "execution_count": 5,
     "metadata": {},
     "output_type": "execute_result"
    }
   ],
   "source": [
    "# Complete wavefunction in spherical coordinates\n",
    "# phi, theta and the distance to the origin r\n",
    "\n",
    "j_n[n]*Y_l_m[l][m].subs(\n",
    "    x, sym.sin(theta)*sym.cos(phi)).subs(\n",
    "    y, sym.sin(theta)*sym.sin(phi)).subs(\n",
    "    z, sym.cos(theta))"
   ]
  },
  {
   "cell_type": "markdown",
   "metadata": {},
   "source": [
    "## Example Plot"
   ]
  },
  {
   "cell_type": "code",
   "execution_count": 7,
   "metadata": {},
   "outputs": [],
   "source": [
    "# Define the functions\n",
    "Y_func = sym.lambdify(['x','y','z'], Y_l_m[2][-2]) # x,y,z on the unit sphere\n",
    "J_func = sym.lambdify('r', j_n[0]) # r the distance to the origin"
   ]
  },
  {
   "cell_type": "code",
   "execution_count": 8,
   "metadata": {},
   "outputs": [
    {
     "data": {
      "text/plain": [
       "<matplotlib.image.AxesImage at 0x7f89b966d710>"
      ]
     },
     "execution_count": 8,
     "metadata": {},
     "output_type": "execute_result"
    },
    {
     "data": {
      "image/png": "[encoded data removed]",
      "text/plain": [
       "<Figure size 432x288 with 1 Axes>"
      ]
     },
     "metadata": {
      "needs_background": "light"
     },
     "output_type": "display_data"
    }
   ],
   "source": [
    "grid = np.linspace(-20,20,80)\n",
    "x,y,z = np.meshgrid(grid,grid,grid)\n",
    "r = (x**2+y**2+z**2)**0.5\n",
    "result = Y_func(x/r,y/r,z/r)*J_func(r)\n",
    "cmap = plt.get_cmap('seismic')\n",
    "#norm = mpl.colors.Normalize(vmin=-0.15, vmax=0.15)\n",
    "scalarMap = cm.ScalarMappable(norm=None, cmap=cmap)\n",
    "plt.imshow(scalarMap.to_rgba(result[:,0,:]))"
   ]
  },
  {
   "cell_type": "code",
   "execution_count": null,
   "metadata": {},
   "outputs": [],
   "source": []
  }
 ],
 "metadata": {
  "kernelspec": {
   "display_name": "Python 3",
   "language": "python",
   "name": "python3"
  },
  "language_info": {
   "codemirror_mode": {
    "name": "ipython",
    "version": 3
   },
   "file_extension": ".py",
   "mimetype": "text/x-python",
   "name": "python",
   "nbconvert_exporter": "python",
   "pygments_lexer": "ipython3",
   "version": "3.6.9"
  }
 },
 "nbformat": 4,
 "nbformat_minor": 4
}
